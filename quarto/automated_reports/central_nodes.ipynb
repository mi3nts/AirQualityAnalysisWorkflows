{
  "cells": [
    {
      "cell_type": "raw",
      "metadata": {},
      "source": [
        "---\n",
        "title: \"Central Nodes\"\n",
        "---"
      ],
      "id": "b20b2246"
    },
    {
      "cell_type": "markdown",
      "metadata": {},
      "source": [
        "Lorem Ipsum\n",
        "\n",
        "\n",
        "Load in the relevant packages:"
      ],
      "id": "0cc4e4a4"
    },
    {
      "cell_type": "code",
      "metadata": {},
      "source": [
        "from influxdb_client import InfluxDBClient\n",
        "import pandas as pd\n",
        "import os\n",
        "from dotenv import load_dotenv, dotenv_values\n",
        "\n",
        "print(os.environ)"
      ],
      "id": "8e613375",
      "execution_count": null,
      "outputs": []
    },
    {
      "cell_type": "markdown",
      "metadata": {},
      "source": [
        "Load in environment variables file"
      ],
      "id": "626cd5cf"
    },
    {
      "cell_type": "code",
      "metadata": {},
      "source": [
        "config = dotenv_values('env_file')\n",
        "print(config)"
      ],
      "id": "5baafad4",
      "execution_count": null,
      "outputs": []
    },
    {
      "cell_type": "markdown",
      "metadata": {},
      "source": [
        "Perform sample query:"
      ],
      "id": "77568b8c"
    },
    {
      "cell_type": "code",
      "metadata": {},
      "source": [
        "client = InfluxDBClient(url='http://host.docker.internal:8086',\n",
        "                        org=config['DOCKER_INFLUXDB_INIT_ORG'],\n",
        "                        token=config['DOCKER_INFLUXDB_INIT_ADMIN_TOKEN'])\n",
        "\n",
        "query_api = client.query_api()\n",
        "\n",
        "bucket = config['DOCKER_INFLUXDB_INIT_BUCKET']\n",
        "\n",
        "query = (\n",
        "    f'from(bucket:\"{bucket}\") '\n",
        "    f'|> range(start: -10m) '\n",
        "    f'|> filter(fn: (r) => r[\"_measurement\"] == \"IPS7100\") '\n",
        "    f'|> filter(fn: (r) => r[\"_field\"] == \"pm2_5\") '\n",
        "    f'|> filter(fn: (r) => r[\"device_name\"] == \"Central Hub 9\") '\n",
        "    f'|> pivot(rowKey:[\"_time\"], columnKey: [\"_field\"], valueColumn: \"_value\") '\n",
        ")\n",
        "\n",
        "data_frame = query_api.query_data_frame(query=query)\n",
        "\n",
        "\n",
        "print(data_frame.to_string())\n"
      ],
      "id": "255fe825",
      "execution_count": null,
      "outputs": []
    }
  ],
  "metadata": {
    "kernelspec": {
      "name": "python3",
      "language": "python",
      "display_name": "Python 3 (ipykernel)"
    }
  },
  "nbformat": 4,
  "nbformat_minor": 5
}